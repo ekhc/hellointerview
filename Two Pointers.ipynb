{
 "cells": [
  {
   "cell_type": "markdown",
   "id": "88d0bbe4-cba0-4f05-9881-2bc51a58048a",
   "metadata": {},
   "source": [
    "# Two Pointers"
   ]
  },
  {
   "cell_type": "markdown",
   "id": "2845057c-3464-46f1-9144-3345779efdd5",
   "metadata": {},
   "source": [
    "## Eliminating Pairs"
   ]
  },
  {
   "cell_type": "markdown",
   "id": "39e636bc-2759-40c2-ba07-8c15c0ea73e8",
   "metadata": {},
   "source": [
    "Problem: Two Sum\n",
    "\n",
    "DESCRIPTION\n",
    "Given a sorted array of integers nums, determine if there exists a pair of numbers that sum to a given target.\n",
    "\n",
    "Example: Input: nums = [1,3,4,6,8,10,13], target = 13  \n",
    "Output: True (3 + 10 = 13)\n",
    "\n",
    "Input: nums = [1,3,4,6,8,10,13], target = 6  \n",
    "Output: False"
   ]
  },
  {
   "cell_type": "markdown",
   "id": "b6fe68ef-0ff0-483a-b1fd-0eac09e15936",
   "metadata": {},
   "source": [
    "### Solutions"
   ]
  },
  {
   "cell_type": "code",
   "execution_count": 105,
   "id": "6a5ed31e-ff8b-4b84-b7df-91172b57a54d",
   "metadata": {},
   "outputs": [],
   "source": [
    "nums = [1,3,4,6,8,10,13]\n",
    "target = 13"
   ]
  },
  {
   "cell_type": "code",
   "execution_count": 9,
   "id": "9f7de573-5e16-4ba1-b488-c5177e4171b8",
   "metadata": {},
   "outputs": [],
   "source": [
    "# O(n^2)\n",
    "def isPairSum(nums, target):\n",
    "    for i in nums:\n",
    "        for j in nums[1:]:\n",
    "            if i + j == target:\n",
    "                return True\n",
    "    return False"
   ]
  },
  {
   "cell_type": "code",
   "execution_count": 10,
   "id": "36c48cbc-dcc9-4f8e-a897-8538cf4c9448",
   "metadata": {},
   "outputs": [
    {
     "data": {
      "text/plain": [
       "True"
      ]
     },
     "execution_count": 10,
     "metadata": {},
     "output_type": "execute_result"
    }
   ],
   "source": [
    "isPairSum(nums, target)"
   ]
  },
  {
   "cell_type": "code",
   "execution_count": 106,
   "id": "fa0d7e11-f3c2-42ed-91d1-047bb1c80c4a",
   "metadata": {},
   "outputs": [],
   "source": [
    "# O(n)\n",
    "def isPairSum(nums, target):\n",
    "    i, j = 0, len(nums) - 1\n",
    "    while i < j:\n",
    "        if nums[i] + nums[j] == target:\n",
    "            return True\n",
    "        elif nums[i] + nums[j] > target:\n",
    "            j -= 1\n",
    "        else:\n",
    "            i += 1\n",
    "    return False"
   ]
  },
  {
   "cell_type": "code",
   "execution_count": 107,
   "id": "bd54a3f0-43ee-4153-a63f-15098229e307",
   "metadata": {},
   "outputs": [
    {
     "data": {
      "text/plain": [
       "True"
      ]
     },
     "execution_count": 107,
     "metadata": {},
     "output_type": "execute_result"
    }
   ],
   "source": [
    "isPairSum(nums, target)"
   ]
  },
  {
   "cell_type": "markdown",
   "id": "6b557485-f700-4971-8c13-73743d585781",
   "metadata": {},
   "source": [
    "## Container with Most Water\n",
    "DESCRIPTION (credit Leetcode.com)\n",
    "Given an integer input array heights representing the heights of vertical lines, write a function that returns the maximum area of water that can be contained by two of the lines (and the x-axis). The function should take in an array of integers and return an integer.\n",
    "\n",
    "EXAMPLES  \n",
    "Example 1:  \n",
    "Inputs:  \n",
    "heights = [3,4,1,2,2,4,1,3,2]\n",
    "Output:  \n",
    "21\n",
    "\n",
    "Example 2:  \n",
    "Inputs:  \n",
    "heights = [1,2,1]  \n",
    "Output:  \n",
    "2  "
   ]
  },
  {
   "cell_type": "code",
   "execution_count": 109,
   "id": "f8469b91-bc58-47f2-8f7d-0910a864e225",
   "metadata": {},
   "outputs": [],
   "source": [
    "heights = [3,4,1,2,2,4,1,3,2]"
   ]
  },
  {
   "cell_type": "code",
   "execution_count": 110,
   "id": "0bb5c7a9-5e5c-4f62-b71e-bacfa5bf6318",
   "metadata": {
    "editable": true,
    "slideshow": {
     "slide_type": ""
    },
    "tags": []
   },
   "outputs": [],
   "source": [
    "def getContainer(heights):\n",
    "    i, j = 0, len(heights) - 1\n",
    "    maxArea = 0\n",
    "    while i < j:\n",
    "        area = (j - i) * min(heights[i], heights[j])\n",
    "        if area > maxArea:\n",
    "            maxArea = area\n",
    "            if heights[i] < heights[j]:\n",
    "                i += 1\n",
    "            elif heights[i] > heights[j]:\n",
    "                j -= 1\n",
    "            else:\n",
    "                i += 1\n",
    "    return maxArea"
   ]
  },
  {
   "cell_type": "code",
   "execution_count": 111,
   "id": "f0d2a120-cc6a-4519-bb28-f6f465b9d6c1",
   "metadata": {},
   "outputs": [
    {
     "data": {
      "text/plain": [
       "21"
      ]
     },
     "execution_count": 111,
     "metadata": {},
     "output_type": "execute_result"
    }
   ],
   "source": [
    "max_area(heights)"
   ]
  },
  {
   "cell_type": "code",
   "execution_count": 112,
   "id": "3d052606-34fd-4a6e-82f7-ab49a5e5a8c0",
   "metadata": {},
   "outputs": [
    {
     "data": {
      "text/plain": [
       "2"
      ]
     },
     "execution_count": 112,
     "metadata": {},
     "output_type": "execute_result"
    }
   ],
   "source": [
    "heights = [1, 2, 1]\n",
    "max_area(heights)"
   ]
  },
  {
   "cell_type": "markdown",
   "id": "2f9e4e6f-862f-461c-93b9-28bca9ad52fe",
   "metadata": {},
   "source": [
    "## 3-Sum\n",
    "DESCRIPTION (credit Leetcode.com)  \n",
    "Given an input integer array nums, write a function to find all unique triplets [nums[i], nums[j], nums[k]] such that i, j, and k are distinct indices, and the sum of nums[i], nums[j], and nums[k] equals zero. Ensure that the resulting list does not contain any duplicate triplets.\n",
    "\n",
    "EXAMPLES  \n",
    "Input:  \n",
    "nums = [-1,0,1,2,-1,-1]  \n",
    "Output:  \n",
    "[[-1,-1,2],[-1,0,1]]  \n",
    "\n",
    "Explanation: Both nums[0], nums[1], nums[2] and nums[1], nums[2], nums[4] both include [-1, 0, 1] and sum to 0. nums[0], nums[3], nums[4] ([-1,-1,2]) also sum to 0.  \n",
    "\n",
    "Since we are looking for unique triplets, we can ignore the duplicate [-1, 0, 1] triplet and return [[-1, -1, 2], [-1, 0, 1]].  \n",
    "\n",
    "The order of the triplets and the order of the elements within the triplets do not matter."
   ]
  },
  {
   "cell_type": "code",
   "execution_count": 125,
   "id": "ec7d61e8-e70f-4c5d-8def-d37c4ca2d4df",
   "metadata": {},
   "outputs": [],
   "source": [
    "nums = [-1,0,1,2,-1,-1]"
   ]
  },
  {
   "cell_type": "code",
   "execution_count": 132,
   "id": "e9567bec-9bbc-4209-8b9e-9e162a427b09",
   "metadata": {},
   "outputs": [],
   "source": [
    "def three_sum(nums: list[int]):\n",
    "    result = list()\n",
    "    nums.sort()\n",
    "    for k in range(len(nums) - 2):\n",
    "        if k > 0 and nums[k] == nums[k - 1]:\n",
    "            continue\n",
    "        i, j = k + 1, len(nums) - 1\n",
    "        total = nums[i] + nums[j] + nums[k]\n",
    "        while i < j:\n",
    "            if total > 0:\n",
    "                j -= 1\n",
    "            elif total < 0:\n",
    "                i += 1\n",
    "            else:\n",
    "                result.append([nums[i], nums[j], nums[k]])\n",
    "                i += 1\n",
    "                j -= 1\n",
    "                while i < j and nums[i] == nums[i - 1]:\n",
    "                    i += 1\n",
    "                while i < j and nums[j] == nums[j + 1]:\n",
    "                    j -= 1\n",
    "    return result"
   ]
  },
  {
   "cell_type": "code",
   "execution_count": 133,
   "id": "987895fb-7218-4359-b9ff-d0a5e37fd39d",
   "metadata": {},
   "outputs": [
    {
     "data": {
      "text/plain": [
       "[[-1, -1, 2], [-1, 0, 1]]"
      ]
     },
     "execution_count": 133,
     "metadata": {},
     "output_type": "execute_result"
    }
   ],
   "source": [
    "three_sum(nums)"
   ]
  },
  {
   "cell_type": "markdown",
   "id": "fa958729-4c0d-462c-9929-ba2d839fdd34",
   "metadata": {},
   "source": [
    "## Triangle Numbers\n",
    "\n",
    "DESCRIPTION (credit Leetcode.com)  \n",
    "Write a function to count the number of triplets in an integer array nums that could form the sides of a triangle. The triplets do not need to be unique.\n",
    "\n",
    "EXAMPLES  \n",
    "Input:  \n",
    "nums = [11,4,9,6,15,18]  \n",
    "Output:  \n",
    "10  \n",
    "Explanation: Valid combinations are...  \n",
    "4, 15, 18  \n",
    "6, 15, 18  \n",
    "9, 15, 18  \n",
    "11, 15, 18  \n",
    "9, 11, 18  \n",
    "6, 11, 15  \n",
    "9, 11, 15  \n",
    "4, 6, 9"
   ]
  },
  {
   "cell_type": "code",
   "execution_count": 165,
   "id": "affd67fe-b812-4789-98a4-efa9b210da1f",
   "metadata": {},
   "outputs": [],
   "source": [
    "nums = [11,4,9,6,15,18]"
   ]
  },
  {
   "cell_type": "code",
   "execution_count": 163,
   "id": "d6f2d7fd-b006-452f-a277-865c696e7a35",
   "metadata": {},
   "outputs": [],
   "source": [
    "# [4, 6, 9, 11, 15, 18]\n",
    "# [18, 15, 11, 9, 6, 4]\n",
    "def triangle(nums):\n",
    "    count = 0\n",
    "    nums.sort()\n",
    "    for k in range(len(nums) - 1, 1, -1):\n",
    "        i, j = 0, k - 1\n",
    "        while i < j:\n",
    "            if nums[i] + nums[j] > nums[k]:\n",
    "                count += (j - i)\n",
    "                j -= 1\n",
    "            else:\n",
    "                i += 1\n",
    "    return count"
   ]
  },
  {
   "cell_type": "code",
   "execution_count": 164,
   "id": "ebbc30df-6fd0-4ce5-be28-8e6dfb6dc886",
   "metadata": {},
   "outputs": [
    {
     "data": {
      "text/plain": [
       "10"
      ]
     },
     "execution_count": 164,
     "metadata": {},
     "output_type": "execute_result"
    }
   ],
   "source": [
    "triangle(nums)"
   ]
  },
  {
   "cell_type": "markdown",
   "id": "42573e6e-8036-4c49-baaa-239261b51f78",
   "metadata": {},
   "source": [
    "## Pointers as Regions"
   ]
  },
  {
   "cell_type": "markdown",
   "id": "61d9f071-4723-47dd-8769-5fc630805b28",
   "metadata": {},
   "source": [
    "### Move Zeroes\n",
    "DESCRIPTION (credit Leetcode.com)  \n",
    "Given an integer array nums, write a function to rearrange the array by moving all zeros to the end while keeping the order of non-zero elements unchanged. Perform this operation in-place without creating a copy of the array.\n",
    "\n",
    "EXAMPLES  \n",
    "Input:  \n",
    "nums = [2,0,4,0,9]  \n",
    "\n",
    "Output:  \n",
    "[2,4,9,0,0]"
   ]
  },
  {
   "cell_type": "code",
   "execution_count": 24,
   "id": "a7b923df-2e26-48f2-b629-02a175ff2d77",
   "metadata": {},
   "outputs": [],
   "source": [
    "# nums = [2,4,9,0,0]\n",
    "nums = [2,0,4,0,9]"
   ]
  },
  {
   "cell_type": "code",
   "execution_count": 25,
   "id": "83f1cf9f-fe25-4684-8ac9-1667d7ffcf6d",
   "metadata": {},
   "outputs": [],
   "source": [
    "def move_zeroes(nums):\n",
    "    j = 0\n",
    "    for i in range(len(nums)):\n",
    "        if nums[i] != 0:\n",
    "            nums[i], nums[j] = nums[j], nums[i]\n",
    "            j += 1\n",
    "    return nums"
   ]
  },
  {
   "cell_type": "code",
   "execution_count": 26,
   "id": "6671f4c0-d469-4360-bcab-9c0b7b959e95",
   "metadata": {},
   "outputs": [
    {
     "data": {
      "text/plain": [
       "[2, 4, 9, 0, 0]"
      ]
     },
     "execution_count": 26,
     "metadata": {},
     "output_type": "execute_result"
    }
   ],
   "source": [
    "move_zeroes(nums)"
   ]
  },
  {
   "cell_type": "markdown",
   "id": "fe862740-2acc-4580-a25d-ac968d623ac3",
   "metadata": {},
   "source": [
    "### Sort Colors\n",
    "DESCRIPTION (credit Leetcode.com)  \n",
    "Write a function to sort a given integer array nums in-place (and without the built-in sort function), where the array contains n integers that are either 0, 1, and 2 and represent the colors red, white, and blue. Arrange the objects so that same-colored ones are adjacent, in the order of red, white, and blue (0, 1, 2).\n",
    "\n",
    "EXAMPLES  \n",
    "Input:  \n",
    "nums = [2,1,2,0,1,0,1,0,1]  \n",
    "\n",
    "Output:  \n",
    "[0,0,0,1,1,1,1,2,2]"
   ]
  },
  {
   "cell_type": "code",
   "execution_count": 43,
   "id": "57912f00-a85f-4a64-b9d3-f89c6aacd021",
   "metadata": {},
   "outputs": [],
   "source": [
    "nums = [2,1,2,0,1,0,1,0,1]"
   ]
  },
  {
   "cell_type": "code",
   "execution_count": 46,
   "id": "2f9705f3-abad-4c0d-8c31-4142adef83f5",
   "metadata": {},
   "outputs": [],
   "source": [
    "def sortColors(nums):\n",
    "    i, j, k = 0, 0, len(nums) - 1\n",
    "    while j < k:\n",
    "        if nums[j] == 0:\n",
    "            nums[i], nums[j] = nums[j], nums[i]\n",
    "            i += 1\n",
    "            j += 1\n",
    "        elif nums[j] == 1:\n",
    "            j += 1\n",
    "        else:\n",
    "            nums[j], nums[k] = nums[k], nums[j]\n",
    "            k -= 1\n",
    "    return nums"
   ]
  },
  {
   "cell_type": "code",
   "execution_count": 47,
   "id": "5bd0a7de-2eae-4570-9427-89eb964baa10",
   "metadata": {},
   "outputs": [
    {
     "data": {
      "text/plain": [
       "[0, 0, 0, 1, 1, 1, 1, 2, 2]"
      ]
     },
     "execution_count": 47,
     "metadata": {},
     "output_type": "execute_result"
    }
   ],
   "source": [
    "sortColors(nums)"
   ]
  },
  {
   "cell_type": "markdown",
   "id": "a8ccac22-2cc7-4c84-abe6-aa8cb6548369",
   "metadata": {},
   "source": [
    "### Trapping Rain Water\n",
    "\n",
    "DESCRIPTION (credit Leetcode.com)  \n",
    "Write a function to calculate the total amount of water trapped between bars on an elevation map, where each bar's width is 1. The input is given as an array of n non-negative integers height representing the height of each bar.\n",
    "\n",
    "EXAMPLES\n",
    "Input:  \n",
    "height = [3, 4, 1, 2, 2, 5, 1, 0, 2]  \n",
    "\n",
    "Output:  \n",
    "10"
   ]
  },
  {
   "cell_type": "code",
   "execution_count": 14,
   "id": "f96332b9-9142-4caf-9a6e-e22301e1e1c5",
   "metadata": {},
   "outputs": [],
   "source": [
    "height = [3, 4, 1, 2, 2, 5, 1, 0, 2]"
   ]
  },
  {
   "cell_type": "code",
   "execution_count": 15,
   "id": "327491e9-a0bc-49e6-9446-78bc34670836",
   "metadata": {},
   "outputs": [],
   "source": [
    "def trappingWater(height):\n",
    "    left, right = 0, len(height) - 1\n",
    "    left_max, right_max = height[left], height[right]\n",
    "    totalWater = 0\n",
    "\n",
    "    while left + 1 < right:\n",
    "        if left_max < right_max:\n",
    "            left += 1\n",
    "            if height[left] > left_max:\n",
    "                left_max = height[left]\n",
    "            else:\n",
    "                totalWater += left_max - height[left]\n",
    "        else:\n",
    "            right -= 1\n",
    "            if height[right] > right_max:\n",
    "                right_max = height[right]\n",
    "            else:\n",
    "                totalWater += right_max - height[right]\n",
    "\n",
    "    return totalWater"
   ]
  },
  {
   "cell_type": "code",
   "execution_count": 13,
   "id": "dc5cd45c-2a4c-4da8-97ec-60840943b5a1",
   "metadata": {},
   "outputs": [
    {
     "ename": "IndexError",
     "evalue": "list index out of range",
     "output_type": "error",
     "traceback": [
      "\u001b[0;31m---------------------------------------------------------------------------\u001b[0m",
      "\u001b[0;31mIndexError\u001b[0m                                Traceback (most recent call last)",
      "Cell \u001b[0;32mIn[13], line 1\u001b[0m\n\u001b[0;32m----> 1\u001b[0m \u001b[43mtrappingWater\u001b[49m\u001b[43m(\u001b[49m\u001b[43mheight\u001b[49m\u001b[43m)\u001b[49m\n",
      "Cell \u001b[0;32mIn[12], line 3\u001b[0m, in \u001b[0;36mtrappingWater\u001b[0;34m(height)\u001b[0m\n\u001b[1;32m      1\u001b[0m \u001b[38;5;28;01mdef\u001b[39;00m \u001b[38;5;21mtrappingWater\u001b[39m(height):\n\u001b[1;32m      2\u001b[0m     left, right \u001b[38;5;241m=\u001b[39m \u001b[38;5;241m0\u001b[39m, \u001b[38;5;28mlen\u001b[39m(height) \u001b[38;5;241m+\u001b[39m \u001b[38;5;241m1\u001b[39m\n\u001b[0;32m----> 3\u001b[0m     left_max, right_max \u001b[38;5;241m=\u001b[39m height[left], \u001b[43mheight\u001b[49m\u001b[43m[\u001b[49m\u001b[43mright\u001b[49m\u001b[43m]\u001b[49m\n\u001b[1;32m      4\u001b[0m     totalWater \u001b[38;5;241m=\u001b[39m \u001b[38;5;241m0\u001b[39m\n\u001b[1;32m      6\u001b[0m     \u001b[38;5;28;01mwhile\u001b[39;00m left \u001b[38;5;241m+\u001b[39m \u001b[38;5;241m1\u001b[39m \u001b[38;5;241m<\u001b[39m right:\n",
      "\u001b[0;31mIndexError\u001b[0m: list index out of range"
     ]
    }
   ],
   "source": [
    "trappingWater(height)"
   ]
  },
  {
   "cell_type": "code",
   "execution_count": 16,
   "id": "2e973169-1992-41fd-ace9-b4f89385a7c5",
   "metadata": {},
   "outputs": [
    {
     "data": {
      "text/plain": [
       "10"
      ]
     },
     "execution_count": 16,
     "metadata": {},
     "output_type": "execute_result"
    }
   ],
   "source": [
    "trappingWater(height)"
   ]
  },
  {
   "cell_type": "code",
   "execution_count": null,
   "id": "115bf9b2-54e9-4048-984e-443c9906441a",
   "metadata": {},
   "outputs": [],
   "source": []
  }
 ],
 "metadata": {
  "kernelspec": {
   "display_name": "Python 3 (ipykernel)",
   "language": "python",
   "name": "python3"
  },
  "language_info": {
   "codemirror_mode": {
    "name": "ipython",
    "version": 3
   },
   "file_extension": ".py",
   "mimetype": "text/x-python",
   "name": "python",
   "nbconvert_exporter": "python",
   "pygments_lexer": "ipython3",
   "version": "3.12.6"
  }
 },
 "nbformat": 4,
 "nbformat_minor": 5
}
